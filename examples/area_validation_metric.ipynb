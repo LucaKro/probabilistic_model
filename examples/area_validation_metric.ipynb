{
 "cells": [
  {
   "metadata": {},
   "cell_type": "markdown",
   "source": [
    "# Learning how the Area validation Metric functions.\n",
    "In this Tutorial we will go through the logic and the usages of the Area valtiution Metric for Probisti Curcits.\n"
   ],
   "id": "b31328f1492f7054"
  },
  {
   "metadata": {},
   "cell_type": "markdown",
   "source": [
    "# AVM Theory\n",
    "\n",
    "First the Probilstic Curcuite needs to be smooth and be structural decomposable.\n",
    "One way how it can discribe a curcit is follow form: (Shadow Curcit?) (source)\n",
    "\n",
    "$p(x) = \\sum_j w_j \\prod_i p_{ij}(x_i)$\n",
    "\n",
    "withe this it can discribe 2 Curcites P and Q.\n",
    "\n",
    "The Area Valdation metic (source) is followed describet:\n",
    "\n",
    "$\\int_{-\\infty}^\\infty  |p(x) - q(x)| dx$\n",
    "\n",
    "Withe this it can split this distance Function for Probilstic curcits in 2 Option where P(x) is great then Q(x) and vice versa.\n",
    "$\\underset{\\text{Event P}}{1_{p(x) - q(x) > 0}} \\int_{-\\infty}^\\infty p(x) - q(x) dx + \\underset{\\text{Event Q}}{1_{p(x) - q(x) < 0}} \\int_{-\\infty}^\\infty q(x) - p(x) dx$\n",
    "\n",
    "Now we see if it creat the correc Events for P and Q it can just simplfy it and calculate it the following way. Where P or Q is dominat\n",
    "\n",
    "$p\\left(\\text{Event P}\\right) - q\\left(\\text{Event P}\\right) + q\\left(\\text{Event Q}\\right) - p \\left(\\text{Event Q}\\right)$\n",
    "\n"
   ],
   "id": "4b55afd2e649b817"
  },
  {
   "metadata": {},
   "cell_type": "markdown",
   "source": [
    "## AVM Practical Application#\n",
    "Now its shown  how a simpel distance between Curcites can be calculate in JPT"
   ],
   "id": "1a0fe2d9526edeea"
  },
  {
   "metadata": {
    "ExecuteTime": {
     "end_time": "2024-06-11T14:50:13.345111Z",
     "start_time": "2024-06-11T14:50:11.598444Z"
    }
   },
   "cell_type": "code",
   "source": [
    "\n",
    "import portion\n",
    "from random_events.variables import Continuous\n",
    "from probabilistic_model.learning.jpt.jpt import JPT, DecomposableProductUnit as JPTLeaf\n",
    "from probabilistic_model.probabilistic_circuit.distributions.distributions import UniformDistribution\n",
    "from probabilistic_model.probabilistic_circuit.probabilistic_circuit import *\n",
    "\n",
    "\n",
    "x = Continuous(\"x\")\n",
    "y = Continuous(\"y\")\n",
    "standard_circuit = JPTLeaf()\n",
    "standard_circuit.add_subcircuit(UniformDistribution(x, portion.closed(0, 1)))\n",
    "standard_circuit.add_subcircuit(UniformDistribution(y, portion.closed(0, 1)))\n",
    "standard_circuit = standard_circuit.probabilistic_circuit\n",
    "event_1 = Event({x: portion.closed(0, .25), y: portion.closed(0, .25)})\n",
    "event_2 = Event({x: portion.closed(0.75, 1), y: portion.closed(0.75, 1)})\n",
    "circuit_1, _ = standard_circuit.conditional(event_1.complement())\n",
    "circuit_2, _ = standard_circuit.conditional(event_2.complement())\n"
   ],
   "id": "dcf6bb1c74147e33",
   "outputs": [],
   "execution_count": 1
  },
  {
   "metadata": {
    "ExecuteTime": {
     "end_time": "2024-06-11T14:50:15.646541Z",
     "start_time": "2024-06-11T14:50:15.629513Z"
    }
   },
   "cell_type": "code",
   "source": [
    "result = JPT.area_validation_metric(circuit_1.root, circuit_2.root)\n",
    "print(result)"
   ],
   "id": "99501c62aaf7448b",
   "outputs": [
    {
     "name": "stdout",
     "output_type": "stream",
     "text": [
      "0.06666666666666654\n"
     ]
    }
   ],
   "execution_count": 2
  },
  {
   "metadata": {},
   "cell_type": "markdown",
   "source": "",
   "id": "2eec9343ff5b7769"
  }
 ],
 "metadata": {
  "kernelspec": {
   "display_name": "Python 3",
   "language": "python",
   "name": "python3"
  },
  "language_info": {
   "codemirror_mode": {
    "name": "ipython",
    "version": 2
   },
   "file_extension": ".py",
   "mimetype": "text/x-python",
   "name": "python",
   "nbconvert_exporter": "python",
   "pygments_lexer": "ipython2",
   "version": "2.7.6"
  }
 },
 "nbformat": 4,
 "nbformat_minor": 5
}
